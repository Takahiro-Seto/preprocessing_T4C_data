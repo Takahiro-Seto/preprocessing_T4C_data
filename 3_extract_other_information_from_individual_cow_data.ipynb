{
 "cells": [
  {
   "cell_type": "code",
   "execution_count": null,
   "metadata": {},
   "outputs": [],
   "source": [
    "# Import library\n",
    "import pandas as pd\n",
    "import os\n",
    "import pandas.tseries.offsets as offsets\n",
    "import datetime\n",
    "import numpy as np"
   ]
  },
  {
   "cell_type": "code",
   "execution_count": null,
   "metadata": {},
   "outputs": [],
   "source": [
    "# Get file path\n",
    "file_list = os.listdir(path='./data')\n",
    "file_list.remove('.DS_Store') # If Mac, it is neccecary to remove\n",
    "print(file_list)"
   ]
  },
  {
   "cell_type": "code",
   "execution_count": null,
   "metadata": {},
   "outputs": [],
   "source": [
    "# Create dataframe(df)\n",
    "# Each columns are written in used language\n",
    "df = pd.DataFrame(index=[], columns=['ID', '最終分娩日','繁殖状況', 'グループ', '産次', '分娩予定日または授精後日数', 'タグ', '泌乳日数', '乾乳予定日'])"
   ]
  },
  {
   "cell_type": "code",
   "execution_count": null,
   "metadata": {},
   "outputs": [],
   "source": [
    "# View df\n",
    "df"
   ]
  },
  {
   "cell_type": "code",
   "execution_count": null,
   "metadata": {},
   "outputs": [],
   "source": [
    "# 全ファイルのdfへの読み込み\n",
    "index = 0\n",
    "for i in file_list:\n",
    "    df1 = pd.read_excel('./data/{0}'.format(i), header=None)\n",
    "    # Extract ID\n",
    "    ID = df1.iat[2, 3]\n",
    "    ID = str(ID)\n",
    "    ID = ID[:4]\n",
    "    \n",
    "    # Extract '最終分娩日'(last calving date)\n",
    "    if df1.iat[2, 7] is np.nan:\n",
    "        saisyu1 = np.nan\n",
    "    else:\n",
    "        saisyu = df1.iat[2, 7]\n",
    "        saisyu = str(saisyu)\n",
    "        saisyu1 = str(saisyu[-4:]) + \"-\"\n",
    "        saisyu1 = saisyu1 + str(saisyu[3:5]) + \"-\"\n",
    "        saisyu1 = saisyu1 + str(saisyu[0:2])\n",
    "        #tdatetime = datetime.datetime.strptime(saisyu1, '%Y-%m-%d')\n",
    "        #tdate = datetime.date(tdatetime.year, tdatetime.month, tdatetime.day)\n",
    "        \n",
    "    # Extract '繁殖状況'(breeding status)\n",
    "    hansyokuzyoukyou = df1.iat[2, 11]\n",
    "    hansyokuzyoukyou = str(hansyokuzyoukyou)\n",
    "    hansyokuzyoukyou = hansyokuzyoukyou[:2]\n",
    "    \n",
    "    # Extract 'グループ'(group)\n",
    "    group = df1.iat[3, 3]\n",
    "    \n",
    "    # Extract '産次'（parity)\n",
    "    sanzi = df1.iat[3, 7]\n",
    "    \n",
    "    # Extract '分娩予定日'(Date of delivery)\n",
    "    if df1.iat[3, 11] is np.nan:\n",
    "        yoteibi1 = np.nan\n",
    "    \n",
    "    else:\n",
    "        yoteibi = df1.iat[3, 11]\n",
    "        yoteibi = str(yoteibi)\n",
    "        yoteibi1 = str(yoteibi[-4:]) + \"-\"\n",
    "        yoteibi1 = yoteibi1 + str(yoteibi[3:5]) + \"-\"\n",
    "        yoteibi1 = yoteibi1 + str(yoteibi[0:2])\n",
    "\n",
    "        \n",
    "    # Extract 'タグ番号' (tag ID)\n",
    "    tag = df1.iat[4, 3]\n",
    "    \n",
    "    # Extract '泌乳日数' (lactation date)\n",
    "    hinyuubi = df1.iat[4, 7]\n",
    "    \n",
    "    # Extract '乾乳予定日' (Dry milk to set the date)\n",
    "    if df1.iat[4, 11] is np.nan:\n",
    "        kyoteibi1 = np.nan\n",
    "    else:\n",
    "        kyoteibi = df1.iat[4, 11]\n",
    "        kyoteibi = str(kyoteibi)\n",
    "        kyoteibi1 = str(kyoteibi[-4:]) + \"-\"\n",
    "        kyoteibi1 = kyoteibi1 + str(kyoteibi[3:5]) + \"-\"\n",
    "        kyoteibi1 = kyoteibi1 + str(kyoteibi[0:2])\n",
    "    \n",
    "    # Insert to df\n",
    "    df.loc[index] = [ID, saisyu1, hansyokuzyoukyou, group, sanzi, yoteibi1, tag, hinyuubi, kyoteibi1]\n",
    "    \n",
    "    index = index + 1\n"
   ]
  },
  {
   "cell_type": "code",
   "execution_count": null,
   "metadata": {},
   "outputs": [],
   "source": [
    "df"
   ]
  },
  {
   "cell_type": "code",
   "execution_count": null,
   "metadata": {},
   "outputs": [],
   "source": [
    "df.dtypes"
   ]
  },
  {
   "cell_type": "code",
   "execution_count": null,
   "metadata": {},
   "outputs": [],
   "source": [
    "# Save df to xlsx format\n",
    "df.to_excel('./ushiinformation.xlsx')"
   ]
  }
 ],
 "metadata": {
  "kernelspec": {
   "display_name": "Python 3",
   "language": "python",
   "name": "python3"
  },
  "language_info": {
   "codemirror_mode": {
    "name": "ipython",
    "version": 3
   },
   "file_extension": ".py",
   "mimetype": "text/x-python",
   "name": "python",
   "nbconvert_exporter": "python",
   "pygments_lexer": "ipython3",
   "version": "3.9.5"
  }
 },
 "nbformat": 4,
 "nbformat_minor": 2
}
