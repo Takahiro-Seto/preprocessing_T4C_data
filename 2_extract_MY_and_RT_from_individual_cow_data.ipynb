{
 "cells": [
  {
   "cell_type": "code",
   "execution_count": null,
   "metadata": {},
   "outputs": [],
   "source": [
    "# Import library\n",
    "import pandas as pd \n",
    "import os \n",
    "import pandas.tseries.offsets as offsets "
   ]
  },
  {
   "cell_type": "code",
   "execution_count": null,
   "metadata": {},
   "outputs": [],
   "source": [
    "# Get file path\n",
    "file_list = os.listdir(path='./data')\n",
    "file_list.remove('.DS_Store') # If Mac, it is neccecary to remove\n",
    "print(file_list)"
   ]
  },
  {
   "cell_type": "code",
   "execution_count": null,
   "metadata": {},
   "outputs": [],
   "source": [
    "# Create dataframe(df)\n",
    "# Each columns are written in used language\n",
    "df = pd.DataFrame(index=[], columns=['ID', '活動量日時', '日乳量', '反芻注意', '合計反芻時間', '活動量', '発情の可能性',  '活動量注意'])"
   ]
  },
  {
   "cell_type": "code",
   "execution_count": null,
   "metadata": {},
   "outputs": [],
   "source": [
    "# View df\n",
    "df"
   ]
  },
  {
   "cell_type": "code",
   "execution_count": null,
   "metadata": {},
   "outputs": [],
   "source": [
    "# Read data of columns of all .xlsx files\n",
    "# Coution: Too much data cannot be read at once (memory overload)\n",
    "for i in file_list:\n",
    "    df1 = pd.read_excel('./data/{0}'.format(i), header=None)\n",
    "    ID = df1.iat[2, 3]\n",
    "    ID = str(ID)\n",
    "    ID = ID[:4]\n",
    "    df2 = pd.read_excel('./data/{0}'.format(i), header=8, usecols=[0,1,2,3,4,5,6,7], skiprows=[9,10,11]) # Skiprows contain html metadata\n",
    "    df2.columns = ['ID', '活動量日時', '日乳量', '反芻注意', '合計反芻時間', '活動量', '発情の可能性',  '活動量注意']\n",
    "    df2['ID'] = ID\n",
    "    df = df.append(df2, ignore_index=True)"
   ]
  },
  {
   "cell_type": "code",
   "execution_count": null,
   "metadata": {},
   "outputs": [],
   "source": [
    "# View df\n",
    "df"
   ]
  },
  {
   "cell_type": "code",
   "execution_count": null,
   "metadata": {
    "scrolled": false
   },
   "outputs": [],
   "source": [
    "# Convert date data type to string to correct date ordering\n",
    "# At 2020, T4C was unable to write out the Japanese date markings correctly.\n",
    "df['活動量日時'] = df['活動量日時'].astype(str)"
   ]
  },
  {
   "cell_type": "code",
   "execution_count": null,
   "metadata": {},
   "outputs": [],
   "source": [
    "# 確認\n",
    "df['活動量日時']"
   ]
  },
  {
   "cell_type": "code",
   "execution_count": null,
   "metadata": {
    "scrolled": true
   },
   "outputs": [],
   "source": [
    "# Check the numbers of rows\n",
    "len(df)"
   ]
  },
  {
   "cell_type": "code",
   "execution_count": null,
   "metadata": {},
   "outputs": [],
   "source": [
    "# Fixing the date sequence\n",
    "for i in range(len(df)):\n",
    "    date = df.at[i, '活動量日時']\n",
    "    df.at[i, '活動量日時'] = \"20\" + date[8:10] + \"-\" + date[5:7] + \"-\" + date[2:4] + \" \" + date[11:]"
   ]
  },
  {
   "cell_type": "code",
   "execution_count": null,
   "metadata": {
    "scrolled": true
   },
   "outputs": [],
   "source": [
    "#　Confirmation\n",
    "df['活動量日時']"
   ]
  },
  {
   "cell_type": "code",
   "execution_count": null,
   "metadata": {
    "scrolled": true
   },
   "outputs": [],
   "source": [
    "# Save df\n",
    "df.to_excel('./data.xlsx')"
   ]
  },
  {
   "cell_type": "code",
   "execution_count": null,
   "metadata": {},
   "outputs": [],
   "source": [
    "# Only the row with milk volume (at 0:00) is extracted and stored in df3.\n",
    "df3 = df[df.日乳量 > 0]"
   ]
  },
  {
   "cell_type": "code",
   "execution_count": null,
   "metadata": {},
   "outputs": [],
   "source": [
    "# Reworking the index of df3\n",
    "df3.reset_index(drop=True, inplace=True)\n",
    "df3"
   ]
  },
  {
   "cell_type": "code",
   "execution_count": null,
   "metadata": {},
   "outputs": [],
   "source": [
    "# Convert date data type from string to datetime\n",
    "pd.to_datetime(df3['活動量日時'], format='%Y-%m-%d %H:%M:%S', errors='coerce')"
   ]
  },
  {
   "cell_type": "code",
   "execution_count": null,
   "metadata": {},
   "outputs": [],
   "source": [
    "# View df3\n",
    "df3"
   ]
  },
  {
   "cell_type": "code",
   "execution_count": null,
   "metadata": {},
   "outputs": [],
   "source": [
    "# Select the date range to read\n",
    "start_date = pd.to_datetime('2018-10-01 00:00:00')# Start\n",
    "end_date = pd.to_datetime('2020-02-13 00:00:00') # End\n",
    "daterange = end_date - start_date + offsets.Day(1) \n",
    "daterange_int = daterange.days # Numbers of days to read"
   ]
  },
  {
   "cell_type": "code",
   "execution_count": null,
   "metadata": {},
   "outputs": [],
   "source": [
    "daterange_int"
   ]
  },
  {
   "cell_type": "code",
   "execution_count": null,
   "metadata": {},
   "outputs": [],
   "source": [
    "# Create df4 (for inserting 日乳量 (Milk yield  kg/day))\n",
    "df4 = pd.DataFrame(index=[], columns=['ID'])\n",
    "df4.set_index('ID')"
   ]
  },
  {
   "cell_type": "code",
   "execution_count": null,
   "metadata": {},
   "outputs": [],
   "source": [
    "df3.drop_duplicates(inplace=True)"
   ]
  },
  {
   "cell_type": "code",
   "execution_count": null,
   "metadata": {},
   "outputs": [],
   "source": [
    "# Insert milk yield for each cow by date into df4\n",
    "for i in range(daterange_int):\n",
    "    date = start_date + offsets.Day(i)\n",
    "    date_str = date.strftime(\"%Y-%m-%d %H:%M:%S\")\n",
    "    df5 = df3.query('活動量日時 in [@date_str]')\n",
    "    df6 = df5.loc[:, ['ID', '日乳量']]\n",
    "    df7 = df6.set_index('ID')\n",
    "    df8 = df7.rename(columns={'日乳量': '{}'.format(date_str)})\n",
    "    df4 = pd.concat([df4, df8], axis=1, sort=True)"
   ]
  },
  {
   "cell_type": "code",
   "execution_count": null,
   "metadata": {},
   "outputs": [],
   "source": [
    "df4"
   ]
  },
  {
   "cell_type": "code",
   "execution_count": null,
   "metadata": {},
   "outputs": [],
   "source": [
    "# Drop the row 'ID'\n",
    "df9 = df4.drop('ID', axis=1) "
   ]
  },
  {
   "cell_type": "code",
   "execution_count": null,
   "metadata": {},
   "outputs": [],
   "source": [
    "df9"
   ]
  },
  {
   "cell_type": "code",
   "execution_count": null,
   "metadata": {},
   "outputs": [],
   "source": [
    "# Save  df9 to xlsx format\n",
    "df9.to_excel('./nyuryo.xlsx')"
   ]
  },
  {
   "cell_type": "code",
   "execution_count": null,
   "metadata": {},
   "outputs": [],
   "source": [
    "# Create df4 (for inserting 反芻時間 (Rumination time  min/day))\n",
    "df10 = pd.DataFrame(index=[], columns=['ID'])\n",
    "df10.set_index('ID')"
   ]
  },
  {
   "cell_type": "code",
   "execution_count": null,
   "metadata": {},
   "outputs": [],
   "source": [
    "# # Insert rumination time for each cow by date into df10\n",
    "for i in range(daterange_int):\n",
    "    date2 = start_date + offsets.Day(i) # 抽出日の初期化\n",
    "    date2_str = date2.strftime(\"%Y-%m-%d %H:%M:%S\") # 抽出日を文字列変換\n",
    "    df11 = df3.query('活動量日時 in [@date2_str]') # 抽出日のデータ抽出\n",
    "    df12 = df11.loc[:, ['ID', '合計反芻時間']] # IDと合計反芻時間を抽出\n",
    "    df13 = df12.set_index('ID') # IDをインデックスにはめ込む\n",
    "    df14 = df13.rename(columns={'合計反芻時間': '{}'.format(date2_str)}) # 合計反芻時間のラベルを日付に変換\n",
    "    df10 = pd.concat([df10, df14], axis=1, sort=True) # df10に埋め込んでいく（indexはpandasが勝手にソートする）"
   ]
  },
  {
   "cell_type": "code",
   "execution_count": null,
   "metadata": {},
   "outputs": [],
   "source": [
    "# View df10\n",
    "df10"
   ]
  },
  {
   "cell_type": "code",
   "execution_count": null,
   "metadata": {},
   "outputs": [],
   "source": [
    "# Remove the row 'ID'\n",
    "df15 = df15.drop('ID', axis=1)"
   ]
  },
  {
   "cell_type": "code",
   "execution_count": null,
   "metadata": {},
   "outputs": [],
   "source": [
    "df15"
   ]
  },
  {
   "cell_type": "code",
   "execution_count": null,
   "metadata": {},
   "outputs": [],
   "source": [
    "# Save df15 to xlsx format\n",
    "df15.to_excel('./hansu.xlsx')"
   ]
  },
  {
   "cell_type": "code",
   "execution_count": null,
   "metadata": {},
   "outputs": [],
   "source": []
  }
 ],
 "metadata": {
  "kernelspec": {
   "display_name": "Python 3",
   "language": "python",
   "name": "python3"
  },
  "language_info": {
   "codemirror_mode": {
    "name": "ipython",
    "version": 3
   },
   "file_extension": ".py",
   "mimetype": "text/x-python",
   "name": "python",
   "nbconvert_exporter": "python",
   "pygments_lexer": "ipython3",
   "version": "3.9.5"
  }
 },
 "nbformat": 4,
 "nbformat_minor": 2
}
